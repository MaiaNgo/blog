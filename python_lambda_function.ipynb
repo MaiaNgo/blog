{
 "cells": [
  {
   "cell_type": "code",
   "execution_count": 2,
   "metadata": {},
   "outputs": [
    {
     "data": {
      "text/plain": [
       "3"
      ]
     },
     "execution_count": 2,
     "metadata": {},
     "output_type": "execute_result"
    }
   ],
   "source": [
    "# define a regular 'add' function to add to number\n",
    "def add(x, y):\n",
    "    return x + y\n",
    "\n",
    "# call the 'add' function\n",
    "add(1, 2)"
   ]
  },
  {
   "cell_type": "code",
   "execution_count": 5,
   "metadata": {},
   "outputs": [
    {
     "data": {
      "text/plain": [
       "3"
      ]
     },
     "execution_count": 5,
     "metadata": {},
     "output_type": "execute_result"
    }
   ],
   "source": [
    "# define a lambda function and the call it immediately\n",
    "(lambda x, y : x + y)(1, 2)"
   ]
  },
  {
   "cell_type": "code",
   "execution_count": 17,
   "metadata": {},
   "outputs": [],
   "source": [
    "# list of dictionaries of movies with title, year of release and its revenue\n",
    "movies = [\n",
    "    {'title': 'Avatar', 'year': 2009, 'revenue': 2790000},\n",
    "    {'title': 'Transformers', 'year': 2007, 'revenue': 4840000},\n",
    "    {'title': 'Avengers', 'year': 2008, 'revenue': 22583000},\n",
    "]"
   ]
  },
  {
   "cell_type": "code",
   "execution_count": 18,
   "metadata": {},
   "outputs": [
    {
     "data": {
      "text/plain": [
       "[{'title': 'Avatar', 'year': 2009, 'revenue': 2790000},\n",
       " {'title': 'Avengers', 'year': 2008, 'revenue': 22583000},\n",
       " {'title': 'Transformers', 'year': 2007, 'revenue': 4840000}]"
      ]
     },
     "execution_count": 18,
     "metadata": {},
     "output_type": "execute_result"
    }
   ],
   "source": [
    "# sort the list of movies by title\n",
    "sorted(movies, key=lambda movie : movie['title'])"
   ]
  },
  {
   "cell_type": "code",
   "execution_count": 19,
   "metadata": {},
   "outputs": [
    {
     "data": {
      "text/plain": [
       "[{'title': 'Transformers', 'year': 2007, 'revenue': 4840000},\n",
       " {'title': 'Avengers', 'year': 2008, 'revenue': 22583000},\n",
       " {'title': 'Avatar', 'year': 2009, 'revenue': 2790000}]"
      ]
     },
     "execution_count": 19,
     "metadata": {},
     "output_type": "execute_result"
    }
   ],
   "source": [
    "# sort the list of movies by year\n",
    "sorted(movies, key=lambda movie : movie['year'])"
   ]
  },
  {
   "cell_type": "code",
   "execution_count": 20,
   "metadata": {},
   "outputs": [
    {
     "data": {
      "text/plain": [
       "[{'title': 'Avengers', 'year': 2008, 'revenue': 22583000},\n",
       " {'title': 'Transformers', 'year': 2007, 'revenue': 4840000},\n",
       " {'title': 'Avatar', 'year': 2009, 'revenue': 2790000}]"
      ]
     },
     "execution_count": 20,
     "metadata": {},
     "output_type": "execute_result"
    }
   ],
   "source": [
    "# sort the list of movies by revenue in descending order\n",
    "sorted(movies, key=lambda movie : movie['revenue'], reverse=True)"
   ]
  }
 ],
 "metadata": {
  "kernelspec": {
   "display_name": "Python 3",
   "language": "python",
   "name": "python3"
  },
  "language_info": {
   "codemirror_mode": {
    "name": "ipython",
    "version": 3
   },
   "file_extension": ".py",
   "mimetype": "text/x-python",
   "name": "python",
   "nbconvert_exporter": "python",
   "pygments_lexer": "ipython3",
   "version": "3.7.3"
  }
 },
 "nbformat": 4,
 "nbformat_minor": 2
}
